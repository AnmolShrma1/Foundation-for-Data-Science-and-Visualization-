{
 "cells": [
  {
   "cell_type": "code",
   "execution_count": 2,
   "id": "c9d13a20",
   "metadata": {},
   "outputs": [
    {
     "name": "stdout",
     "output_type": "stream",
     "text": [
      "Optimal coefficients:[B0, B1, B2] [-1.12411016  0.1484262   0.24450613]\n",
      "Predicted probabilities: [0.41623573 0.57424521 0.66643954 0.74744989]\n",
      "Predicted labels: [0 1 1 1]\n"
     ]
    }
   ],
   "source": [
    "import numpy as np\n",
    "\n",
    "# Data (input features and labels)\n",
    "X = np.array([\n",
    "    [2, 2],\n",
    "    [3, 4],\n",
    "    [4, 5],\n",
    "    [5, 6]\n",
    "])\n",
    "y = np.array([0, 0, 1, 1])  # Assume binary labels for logistic regression\n",
    "\n",
    "# Initialize parameters (coefficients)\n",
    "B = np.zeros(X.shape[1] + 1)  # [B0, B1, B2]\n",
    "\n",
    "# Sigmoid function renamed to h_x\n",
    "def h_x(z):\n",
    "    return 1 / (1 + np.exp(-z))\n",
    "\n",
    "# Logistic regression model\n",
    "def predict_proba(X, B):\n",
    "    # Add intercept\n",
    "    X_intercept = np.c_[np.ones(X.shape[0]), X]  # Adding a column of ones for B0\n",
    "    return h_x(np.dot(X_intercept, B))\n",
    "\n",
    "# Gradient descent function\n",
    "def gradient_descent(X, y, B, learning_rate=0.01, epochs=1000):\n",
    "    m = X.shape[0]\n",
    "    X_intercept = np.c_[np.ones(X.shape[0]), X]  # Adding intercept term\n",
    "\n",
    "    for epoch in range(epochs):\n",
    "        # Calculate prediction\n",
    "        y_pred = predict_proba(X, B)\n",
    "        \n",
    "        # Calculate the gradient\n",
    "        gradient = np.dot(X_intercept.T, (y_pred - y)) / m\n",
    "\n",
    "        # Update the coefficients\n",
    "        B -= learning_rate * gradient\n",
    "\n",
    "    return B\n",
    "\n",
    "# Train the model\n",
    "learning_rate = 0.01\n",
    "epochs = 1000\n",
    "B_optimal = gradient_descent(X, y, B, learning_rate, epochs)\n",
    "\n",
    "# Output the optimal coefficients\n",
    "print(\"Optimal coefficients:[B0, B1, B2]\", B_optimal)\n",
    "\n",
    "# Testing the prediction on training data\n",
    "y_pred = predict_proba(X, B_optimal)\n",
    "print(\"Predicted probabilities:\", y_pred)\n",
    "print(\"Predicted labels:\", (y_pred >= 0.5).astype(int))\n"
   ]
  },
  {
   "cell_type": "code",
   "execution_count": 3,
   "id": "2fc52a61",
   "metadata": {},
   "outputs": [
    {
     "name": "stdout",
     "output_type": "stream",
     "text": [
      "h(x) (predicted probabilities): [0.5 0.5 0.5 0.5]\n",
      "Gradient df/dB_j for each coefficient: [ 0.    -0.5   -0.625]\n"
     ]
    }
   ],
   "source": [
    "import numpy as np\n",
    "\n",
    "# Data (input features and labels)\n",
    "X = np.array([\n",
    "    [2, 2],\n",
    "    [3, 4],\n",
    "    [4, 5],\n",
    "    [5, 6]\n",
    "])\n",
    "y = np.array([0, 0, 1, 1])  # Assume binary labels for logistic regression\n",
    "\n",
    "# Initialize parameters (coefficients)\n",
    "B = np.zeros(X.shape[1] + 1)  # [B0, B1, B2]\n",
    "\n",
    "# Sigmoid function renamed to h_x\n",
    "def h_x(z):\n",
    "    return 1 / (1 + np.exp(-z))\n",
    "\n",
    "# Logistic regression model\n",
    "def predict_proba(X, B):\n",
    "    # Add intercept\n",
    "    X_intercept = np.c_[np.ones(X.shape[0]), X]  # Adding a column of ones for B0\n",
    "    return h_x(np.dot(X_intercept, B))\n",
    "\n",
    "# Function to calculate the gradient\n",
    "def calculate_gradient(X, y, B):\n",
    "    m = X.shape[0]\n",
    "    X_intercept = np.c_[np.ones(X.shape[0]), X]  # Adding intercept term\n",
    "    \n",
    "    # Calculate prediction\n",
    "    y_pred = predict_proba(X, B)\n",
    "    \n",
    "    # Print h(x) values (predicted probabilities)\n",
    "    print(\"h(x) (predicted probabilities):\", y_pred)\n",
    "    \n",
    "    # Calculate the gradient\n",
    "    gradient = np.dot(X_intercept.T, (y_pred - y)) / m\n",
    "    return gradient\n",
    "\n",
    "# Calculate and print the gradient and h(x)\n",
    "gradient = calculate_gradient(X, y, B)\n",
    "print(\"Gradient df/dB_j for each coefficient:\", gradient)\n"
   ]
  },
  {
   "cell_type": "code",
   "execution_count": 4,
   "id": "602a5e47",
   "metadata": {},
   "outputs": [
    {
     "name": "stdout",
     "output_type": "stream",
     "text": [
      "h(x) (predicted probabilities): [0.5 0.5 0.5 0.5]\n",
      "Gradient df/dB_j for each coefficient: [ 0.    -0.5   -0.625]\n"
     ]
    }
   ],
   "source": [
    "import numpy as np\n",
    "\n",
    "# Data (input features and labels)\n",
    "X = np.array([\n",
    "    [2, 2],\n",
    "    [3, 4],\n",
    "    [4, 5],\n",
    "    [5, 6]\n",
    "])\n",
    "y = np.array([0, 0, 1, 1])  # Assume binary labels for logistic regression\n",
    "\n",
    "# Initialize parameters (coefficients)\n",
    "B = np.zeros(X.shape[1] + 1)  # [B0, B1, B2]\n",
    "\n",
    "# Sigmoid function renamed to h_x\n",
    "def h_x(z):\n",
    "    return 1 / (1 + np.exp(-z))\n",
    "\n",
    "# Logistic regression model to calculate h(x) once\n",
    "def calculate_h_x(X, B):\n",
    "    # Add intercept\n",
    "    X_intercept = np.c_[np.ones(X.shape[0]), X]  # Adding a column of ones for B0\n",
    "    return h_x(np.dot(X_intercept, B))\n",
    "\n",
    "# Function to calculate the gradient using precomputed h(x)\n",
    "def calculate_gradient(X, y, B, y_pred):\n",
    "    m = X.shape[0]\n",
    "    X_intercept = np.c_[np.ones(X.shape[0]), X]  # Adding intercept term\n",
    "    \n",
    "    # Calculate the gradient using precomputed y_pred (h(x))\n",
    "    gradient = np.dot(X_intercept.T, (y_pred - y)) / m\n",
    "    return gradient\n",
    "\n",
    "# Calculate h(x) once and store it\n",
    "y_pred = calculate_h_x(X, B)\n",
    "print(\"h(x) (predicted probabilities):\", y_pred)\n",
    "\n",
    "# Calculate and print the gradient using stored h(x)\n",
    "gradient = calculate_gradient(X, y, B, y_pred)\n",
    "print(\"Gradient df/dB_j for each coefficient:\", gradient)"
   ]
  },
  {
   "cell_type": "code",
   "execution_count": null,
   "id": "81e83e0a",
   "metadata": {},
   "outputs": [],
   "source": []
  }
 ],
 "metadata": {
  "kernelspec": {
   "display_name": "Python 3 (ipykernel)",
   "language": "python",
   "name": "python3"
  },
  "language_info": {
   "codemirror_mode": {
    "name": "ipython",
    "version": 3
   },
   "file_extension": ".py",
   "mimetype": "text/x-python",
   "name": "python",
   "nbconvert_exporter": "python",
   "pygments_lexer": "ipython3",
   "version": "3.11.3"
  }
 },
 "nbformat": 4,
 "nbformat_minor": 5
}
